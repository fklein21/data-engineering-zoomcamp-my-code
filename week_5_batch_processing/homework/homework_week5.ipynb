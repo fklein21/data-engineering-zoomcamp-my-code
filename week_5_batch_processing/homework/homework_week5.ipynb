{
 "cells": [
  {
   "cell_type": "code",
   "execution_count": 117,
   "metadata": {},
   "outputs": [
    {
     "name": "stderr",
     "output_type": "stream",
     "text": [
      "22/03/02 19:53:46 WARN Utils: Service 'SparkUI' could not bind on port 4040. Attempting port 4041.\n",
      "22/03/02 19:53:46 WARN Utils: Service 'SparkUI' could not bind on port 4041. Attempting port 4042.\n"
     ]
    }
   ],
   "source": [
    "import pyspark\n",
    "from pyspark.sql import SparkSession\n",
    "\n",
    "spark = SparkSession.builder \\\n",
    "    .master('local[*]') \\\n",
    "    .appName('test') \\\n",
    "    .getOrCreate()"
   ]
  },
  {
   "cell_type": "code",
   "execution_count": 118,
   "metadata": {},
   "outputs": [],
   "source": [
    "df_fhvhv = spark.read \\\n",
    "    .option('header', 'true') \\\n",
    "    .csv('fhvhv_tripdata_2021-02.csv')"
   ]
  },
  {
   "cell_type": "code",
   "execution_count": 119,
   "metadata": {},
   "outputs": [
    {
     "data": {
      "text/plain": [
       "StructType(List(StructField(hvfhs_license_num,StringType,true),StructField(dispatching_base_num,StringType,true),StructField(pickup_datetime,StringType,true),StructField(dropoff_datetime,StringType,true),StructField(PULocationID,StringType,true),StructField(DOLocationID,StringType,true),StructField(SR_Flag,StringType,true)))"
      ]
     },
     "execution_count": 119,
     "metadata": {},
     "output_type": "execute_result"
    }
   ],
   "source": [
    "df_fhvhv.schema"
   ]
  },
  {
   "cell_type": "code",
   "execution_count": 120,
   "metadata": {},
   "outputs": [
    {
     "name": "stdout",
     "output_type": "stream",
     "text": [
      "+-----------------+--------------------+-------------------+-------------------+------------+------------+-------+\n",
      "|hvfhs_license_num|dispatching_base_num|    pickup_datetime|   dropoff_datetime|PULocationID|DOLocationID|SR_Flag|\n",
      "+-----------------+--------------------+-------------------+-------------------+------------+------------+-------+\n",
      "|           HV0003|              B02764|2021-02-01 00:10:40|2021-02-01 00:21:09|          35|          39|   null|\n",
      "|           HV0003|              B02764|2021-02-01 00:27:23|2021-02-01 00:44:01|          39|          35|   null|\n",
      "|           HV0005|              B02510|2021-02-01 00:28:38|2021-02-01 00:38:27|          39|          91|   null|\n",
      "|           HV0005|              B02510|2021-02-01 00:43:37|2021-02-01 01:23:20|          91|         228|   null|\n",
      "|           HV0003|              B02872|2021-02-01 00:08:42|2021-02-01 00:17:57|         126|         250|   null|\n",
      "+-----------------+--------------------+-------------------+-------------------+------------+------------+-------+\n",
      "only showing top 5 rows\n",
      "\n"
     ]
    }
   ],
   "source": [
    "df_fhvhv.show(5)"
   ]
  },
  {
   "cell_type": "code",
   "execution_count": 121,
   "metadata": {},
   "outputs": [],
   "source": [
    "from pyspark.sql import types"
   ]
  },
  {
   "cell_type": "code",
   "execution_count": 122,
   "metadata": {},
   "outputs": [],
   "source": [
    "fhvhv_schema = types.StructType([\n",
    "    types.StructField(\"hvfhs_license_num\", types.StringType(), True),\n",
    "    types.StructField(\"dispatching_base_num\", types.StringType(), True),\n",
    "    types.StructField(\"pickup_datetime\", types.TimestampType(), True),\n",
    "    types.StructField(\"dropoff_datetime\", types.TimestampType(), True),\n",
    "    types.StructField(\"PULocationID\", types.IntegerType(), True),\n",
    "    types.StructField(\"DOLocationID\", types.IntegerType(), True),\n",
    "    types.StructField(\"SR_Flag\", types.StringType(), True)\n",
    "])"
   ]
  },
  {
   "cell_type": "code",
   "execution_count": 123,
   "metadata": {},
   "outputs": [],
   "source": [
    "df_fhvhv = spark.read \\\n",
    "    .option('header', 'true') \\\n",
    "    .schema(fhvhv_schema) \\\n",
    "    .csv('fhvhv_tripdata_2021-02.csv')"
   ]
  },
  {
   "cell_type": "code",
   "execution_count": 124,
   "metadata": {},
   "outputs": [
    {
     "name": "stdout",
     "output_type": "stream",
     "text": [
      "root\n",
      " |-- hvfhs_license_num: string (nullable = true)\n",
      " |-- dispatching_base_num: string (nullable = true)\n",
      " |-- pickup_datetime: timestamp (nullable = true)\n",
      " |-- dropoff_datetime: timestamp (nullable = true)\n",
      " |-- PULocationID: integer (nullable = true)\n",
      " |-- DOLocationID: integer (nullable = true)\n",
      " |-- SR_Flag: string (nullable = true)\n",
      "\n"
     ]
    }
   ],
   "source": [
    "df_fhvhv.printSchema()"
   ]
  },
  {
   "cell_type": "code",
   "execution_count": 125,
   "metadata": {},
   "outputs": [
    {
     "name": "stderr",
     "output_type": "stream",
     "text": [
      "                                                                                \r"
     ]
    }
   ],
   "source": [
    "#df_fhvhv \\\n",
    "#    .repartition(24) \\\n",
    "#    .write.parquet('data/pq/fhvhv_2021-02', mode='overwrite')"
   ]
  },
  {
   "cell_type": "code",
   "execution_count": 126,
   "metadata": {},
   "outputs": [
    {
     "name": "stdout",
     "output_type": "stream",
     "text": [
      "210M\t./data\n",
      "4.0K\t./spark-warehouse\n",
      "910M\t.\n"
     ]
    }
   ],
   "source": [
    "!du -h --max-depth=1 .\n",
    "# 210M\t./data\n",
    "# 910M\t."
   ]
  },
  {
   "cell_type": "code",
   "execution_count": 127,
   "metadata": {},
   "outputs": [],
   "source": [
    "df_fhvhv = spark.read.parquet('data/pq/fhvhv_2021-02')"
   ]
  },
  {
   "cell_type": "code",
   "execution_count": 128,
   "metadata": {},
   "outputs": [
    {
     "name": "stdout",
     "output_type": "stream",
     "text": [
      "root\n",
      " |-- hvfhs_license_num: string (nullable = true)\n",
      " |-- dispatching_base_num: string (nullable = true)\n",
      " |-- pickup_datetime: timestamp (nullable = true)\n",
      " |-- dropoff_datetime: timestamp (nullable = true)\n",
      " |-- PULocationID: integer (nullable = true)\n",
      " |-- DOLocationID: integer (nullable = true)\n",
      " |-- SR_Flag: string (nullable = true)\n",
      "\n"
     ]
    }
   ],
   "source": [
    "df_hfvhv.printSchema()"
   ]
  },
  {
   "cell_type": "code",
   "execution_count": 129,
   "metadata": {},
   "outputs": [],
   "source": [
    "df_fhvhv.registerTempTable('trips_fhvhv')"
   ]
  },
  {
   "cell_type": "code",
   "execution_count": 130,
   "metadata": {},
   "outputs": [
    {
     "name": "stderr",
     "output_type": "stream",
     "text": [
      "[Stage 5:>                                                          (0 + 4) / 4]\r"
     ]
    },
    {
     "name": "stdout",
     "output_type": "stream",
     "text": [
      "+--------+\n",
      "|count(1)|\n",
      "+--------+\n",
      "|  367170|\n",
      "+--------+\n",
      "\n"
     ]
    },
    {
     "name": "stderr",
     "output_type": "stream",
     "text": [
      "                                                                                \r"
     ]
    }
   ],
   "source": [
    "spark.sql(\"\"\"\n",
    "SELECT\n",
    "    count(*)\n",
    "FROM \n",
    "    trips_fhvhv\n",
    "WHERE\n",
    "    date_trunc('day', pickup_datetime) = '2021-02-15'\n",
    "\"\"\").show()"
   ]
  },
  {
   "cell_type": "code",
   "execution_count": 131,
   "metadata": {},
   "outputs": [],
   "source": [
    "#from pyspark.sql import functions as F\n",
    "import pyspark.sql.functions\n",
    "\n",
    "from pyspark.sql.functions import col"
   ]
  },
  {
   "cell_type": "code",
   "execution_count": 132,
   "metadata": {},
   "outputs": [],
   "source": [
    "df_fhvhv_triplength = df_fhvhv \\\n",
    "    .withColumn(\"pickup_seconds\", col(\"pickup_datetime\").cast(types.LongType())) \\\n",
    "    .withColumn(\"dropoff_seconds\", col(\"dropoff_datetime\").cast(types.LongType())) \\\n",
    "    .withColumn(\"trip_length_seconds\", col('dropoff_seconds') - col('pickup_seconds'))"
   ]
  },
  {
   "cell_type": "code",
   "execution_count": 133,
   "metadata": {},
   "outputs": [],
   "source": [
    "df_fhvhv_triplength.registerTempTable(\"trips_fhvhv_length\")"
   ]
  },
  {
   "cell_type": "code",
   "execution_count": 134,
   "metadata": {},
   "outputs": [
    {
     "name": "stderr",
     "output_type": "stream",
     "text": [
      "[Stage 7:=============================>                             (2 + 2) / 4]\r"
     ]
    },
    {
     "name": "stdout",
     "output_type": "stream",
     "text": [
      "+-------------------+-------------------+-------------------+-----------------+\n",
      "|    pickup_datetime|   dropoff_datetime|trip_length_seconds|trip_length_hours|\n",
      "+-------------------+-------------------+-------------------+-----------------+\n",
      "|2021-02-11 13:40:44|2021-02-12 10:39:44|              75540|            20.98|\n",
      "|2021-02-17 15:54:53|2021-02-18 07:48:34|              57221|            15.89|\n",
      "|2021-02-25 09:18:18|2021-02-25 18:18:57|              32439|             9.01|\n",
      "|2021-02-12 06:16:42|2021-02-12 14:39:10|              30148|             8.37|\n",
      "|2021-02-10 15:00:54|2021-02-10 22:49:57|              28143|             7.82|\n",
      "+-------------------+-------------------+-------------------+-----------------+\n",
      "\n"
     ]
    },
    {
     "name": "stderr",
     "output_type": "stream",
     "text": [
      "                                                                                \r"
     ]
    }
   ],
   "source": [
    "spark.sql(\"\"\"\n",
    "SELECT\n",
    "    pickup_datetime,\n",
    "    dropoff_datetime, \n",
    "    trip_length_seconds,\n",
    "    round(trip_length_seconds/3600,2) AS trip_length_hours\n",
    "FROM\n",
    "    trips_fhvhv_length\n",
    "SORT BY\n",
    "    trip_length_seconds DESC\n",
    "LIMIT 5\n",
    "\"\"\").show()"
   ]
  },
  {
   "cell_type": "code",
   "execution_count": 147,
   "metadata": {},
   "outputs": [
    {
     "name": "stderr",
     "output_type": "stream",
     "text": [
      "[Stage 88:====================================================> (194 + 4) / 200]\r"
     ]
    },
    {
     "name": "stdout",
     "output_type": "stream",
     "text": [
      "+--------------------+----------+\n",
      "|dispatching_base_num|base_count|\n",
      "+--------------------+----------+\n",
      "|              B02510|   3233664|\n",
      "|              B02764|    965568|\n",
      "|              B02872|    882689|\n",
      "|              B02875|    685390|\n",
      "|              B02765|    559768|\n",
      "+--------------------+----------+\n",
      "\n"
     ]
    },
    {
     "name": "stderr",
     "output_type": "stream",
     "text": [
      "                                                                                \r"
     ]
    }
   ],
   "source": [
    "spark.sql(\"\"\"\n",
    "SELECT\n",
    "    dispatching_base_num,\n",
    "    count(dispatching_base_num) AS base_count\n",
    "FROM\n",
    "    trips_fhvhv_length\n",
    "GROUP BY\n",
    "    1\n",
    "ORDER BY\n",
    "    2 DESC\n",
    "LIMIT 5\n",
    "\"\"\").show()"
   ]
  },
  {
   "cell_type": "code",
   "execution_count": 152,
   "metadata": {},
   "outputs": [],
   "source": [
    "df_zones = spark.read.parquet('../code/zones')"
   ]
  },
  {
   "cell_type": "code",
   "execution_count": 154,
   "metadata": {},
   "outputs": [
    {
     "name": "stdout",
     "output_type": "stream",
     "text": [
      "root\n",
      " |-- LocationID: string (nullable = true)\n",
      " |-- Borough: string (nullable = true)\n",
      " |-- Zone: string (nullable = true)\n",
      " |-- service_zone: string (nullable = true)\n",
      "\n"
     ]
    }
   ],
   "source": [
    "df_zones.printSchema()"
   ]
  },
  {
   "cell_type": "code",
   "execution_count": 153,
   "metadata": {},
   "outputs": [],
   "source": [
    "df_zones.registerTempTable(\"zones_table\")"
   ]
  },
  {
   "cell_type": "code",
   "execution_count": 162,
   "metadata": {},
   "outputs": [
    {
     "name": "stderr",
     "output_type": "stream",
     "text": [
      "[Stage 126:==========================================>          (161 + 4) / 200]\r"
     ]
    },
    {
     "name": "stdout",
     "output_type": "stream",
     "text": [
      "+------------+--------------------------------------------+------------+--------------------------------------------+--------+------------------------+-------------------+\n",
      "|PULocationID|concat(concat(concat(Zone,  (), Borough), ))|DOLocationID|concat(concat(concat(Zone,  (), Borough), ))|count(1)|avg(trip_length_seconds)|  trip_length_hours|\n",
      "+------------+--------------------------------------------+------------+--------------------------------------------+--------+------------------------+-------------------+\n",
      "|          76|                        East New York (Br...|          76|                        East New York (Br...|   45041|       522.2509269332386|0.14520281521280348|\n",
      "|          26|                        Borough Park (Bro...|          26|                        Borough Park (Bro...|   37329|       636.9488333467277| 0.1770593908221506|\n",
      "|          39|                         Canarsie (Brooklyn)|          39|                         Canarsie (Brooklyn)|   28026|       447.5587311781917|0.12449047313209335|\n",
      "|          61|                        Crown Heights Nor...|          61|                        Crown Heights Nor...|   25976|       594.2892670157069|0.16524638127502375|\n",
      "|          14|                        Bay Ridge (Brooklyn)|          14|                        Bay Ridge (Brooklyn)|   17934|         420.85987509758|0.11706033232965325|\n",
      "|         129|                        Jackson Heights (...|         129|                        Jackson Heights (...|   14688|       509.3312908496732|0.14161288126361676|\n",
      "|           7|                            Astoria (Queens)|           7|                            Astoria (Queens)|   14688|        440.140522875817|0.12241421568627443|\n",
      "|          42|                        Central Harlem No...|          42|                        Central Harlem No...|   14481|       484.7380705752365|0.13478419998618862|\n",
      "|          37|                        Bushwick South (B...|          37|                        Bushwick South (B...|   14424|       582.6531475318912| 0.1619834997226847|\n",
      "|          89|                        Flatbush/Ditmas P...|          89|                        Flatbush/Ditmas P...|   13976|        561.426159129937|0.15606969089868375|\n",
      "|         216|                        South Ozone Park ...|         216|                        South Ozone Park ...|   13716|      422.77063283756195|0.11754447360746585|\n",
      "|          35|                        Brownsville (Broo...|          35|                        Brownsville (Broo...|   12829|      494.91441265881986|0.13759139449684296|\n",
      "|         132|                        JFK Airport (Queens)|         265|                                NA (Unknown)|   12542|      2451.1470259926646| 0.6809807048317638|\n",
      "|         188|                        Prospect-Lefferts...|          61|                        Crown Heights Nor...|   11814|        724.776367022177|0.20148552564753697|\n",
      "|          95|                        Forest Hills (Que...|          95|                        Forest Hills (Que...|   11548|       471.4060443366817|  0.131134395566332|\n",
      "|          36|                        Bushwick North (B...|          37|                        Bushwick South (B...|   11491|      506.90322861369765| 0.1409485684448698|\n",
      "|          37|                        Bushwick South (B...|          36|                        Bushwick North (B...|   11487|      496.07617306520416| 0.1379080699921651|\n",
      "|          61|                        Crown Heights Nor...|         188|                        Prospect-Lefferts...|   11462|       706.8088466236259|0.19647181992671445|\n",
      "|          61|                        Crown Heights Nor...|         225|                        Stuyvesant Height...|   11342|        640.186298712749|0.17796420384411923|\n",
      "|         188|                        Prospect-Lefferts...|         188|                        Prospect-Lefferts...|   11308|       588.5626989741776|0.16366731517509733|\n",
      "+------------+--------------------------------------------+------------+--------------------------------------------+--------+------------------------+-------------------+\n",
      "only showing top 20 rows\n",
      "\n"
     ]
    },
    {
     "name": "stderr",
     "output_type": "stream",
     "text": [
      "                                                                                \r"
     ]
    }
   ],
   "source": [
    "spark.sql(\"\"\"\n",
    "SELECT\n",
    "    PULocationID,\n",
    "    zones1.Zone || ' (' || zones1.Borough || ')',\n",
    "    DOLocationID,\n",
    "    zones2.Zone || ' (' || zones2.Borough || ')',\n",
    "    count(*),\n",
    "    avg(trip_length_seconds),\n",
    "    avg(round(trip_length_seconds/3600,2)) AS trip_length_hours\n",
    "FROM\n",
    "    trips_fhvhv_length\n",
    "LEFT OUTER JOIN zones_table as zones1\n",
    "on PULocationID = zones1.LocationID\n",
    "LEFT OUTER JOIN zones_table as zones2\n",
    "on DOLocationID = zones2.LocationID\n",
    "GROUP BY\n",
    "    1, 2, 3, 4\n",
    "ORDER BY\n",
    "    5 DESC\n",
    "LIMIT 20\n",
    "\"\"\").show()"
   ]
  },
  {
   "cell_type": "code",
   "execution_count": null,
   "metadata": {},
   "outputs": [],
   "source": []
  }
 ],
 "metadata": {
  "interpreter": {
   "hash": "4b0b1e7b6dfb858f43a4cb4b6c0b7ece1e3b894e00877c1d93cc9645e4c782a0"
  },
  "kernelspec": {
   "display_name": "Python 3.9.7 ('base')",
   "language": "python",
   "name": "python3"
  },
  "language_info": {
   "codemirror_mode": {
    "name": "ipython",
    "version": 3
   },
   "file_extension": ".py",
   "mimetype": "text/x-python",
   "name": "python",
   "nbconvert_exporter": "python",
   "pygments_lexer": "ipython3",
   "version": "3.9.7"
  },
  "orig_nbformat": 4
 },
 "nbformat": 4,
 "nbformat_minor": 2
}
