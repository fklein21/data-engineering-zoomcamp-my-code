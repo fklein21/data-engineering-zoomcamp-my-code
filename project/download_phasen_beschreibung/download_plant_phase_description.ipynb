{
 "cells": [
  {
   "cell_type": "code",
   "execution_count": 10,
   "metadata": {},
   "outputs": [],
   "source": [
    "import os\n",
    "\n",
    "import pandas as pd\n",
    "import urllib.request"
   ]
  },
  {
   "cell_type": "code",
   "execution_count": 11,
   "metadata": {},
   "outputs": [],
   "source": [
    "url_base = 'https://opendata.dwd.de/climate_environment/CDC/observations_germany/phenology/immediate_reporters/'\n",
    "url_PH_Beschreibung_Pflanze = url_base + 'crops/' + 'historical/' +  'PH_Beschreibung_Pflanze.txt'\n",
    "url_PH_Beschreibung_Phase = url_base + 'crops/' + 'historical/' +  'PH_Beschreibung_Phase.txt'\n",
    "url_PH_Beschreibung_Phaenologie_Stationen_Sofortmelder = url_base + 'crops/' + 'historical/' +  'PH_Beschreibung_Phaenologie_Stationen_Sofortmelder.txt'\n",
    "url_PH_Beschreibung_Phasendefinition_Sofortmelder_Landwirtschaft_Kulturpflanze = url_base + 'crops/' + 'recent/' +  'PH_Beschreibung_Phasendefinition_Sofortmelder_Landwirtschaft_Kulturpflanze.txt'\n",
    "url_PH_Beschreibung_Phasendefinition_Sofortmelder_Obst = url_base + 'fruit/' + 'recent/' + 'PH_Beschreibung_Phasendefinition_Sofortmelder_Obst.txt'\n",
    "url_PH_Beschreibung_Phasendefinition_Sofortmelder_Wildwachsende_Pflanze = url_base + 'wild/' + 'recent/' + 'PH_Beschreibung_Phasendefinition_Sofortmelder_Wildwachsende_Pflanze.txt'\n",
    "\n",
    "urls = [url_PH_Beschreibung_Pflanze, \n",
    "        url_PH_Beschreibung_Phase, \n",
    "        url_PH_Beschreibung_Phaenologie_Stationen_Sofortmelder, \n",
    "        url_PH_Beschreibung_Phasendefinition_Sofortmelder_Landwirtschaft_Kulturpflanze,\n",
    "        url_PH_Beschreibung_Phasendefinition_Sofortmelder_Obst,\n",
    "        url_PH_Beschreibung_Phasendefinition_Sofortmelder_Wildwachsende_Pflanze]"
   ]
  },
  {
   "cell_type": "code",
   "execution_count": 18,
   "metadata": {},
   "outputs": [],
   "source": [
    "for url in urls:\n",
    "    filename = url.split('/')[-1]\n",
    "    urllib.request.urlretrieve(url, filename)\n",
    "    plist = []\n",
    "    with open(filename, 'r', encoding='ISO-8859-1') as file:\n",
    "        lines = file.read().split(';eor;')        \n",
    "        for ii in range(len(lines)):\n",
    "            row = [el.strip() for el in lines[ii].split(';')]\n",
    "            if ii==0:\n",
    "                row = [el.replace(' ', '_').replace('.', '_') for el in row]\n",
    "            if row[0] != '':\n",
    "                plist.append(row)\n",
    "    df = pd.DataFrame(plist[1:], columns=plist[0])\n",
    "    df.to_csv(filename.split('.')[0]+'.csv', index=False)\n",
    "    #os.remove(filename)\n"
   ]
  },
  {
   "cell_type": "code",
   "execution_count": 16,
   "metadata": {},
   "outputs": [
    {
     "name": "stdout",
     "output_type": "stream",
     "text": [
      "download_plant_phase_description.ipynb\n",
      "download_plant_phase_description.py\n",
      "PH_Beschreibung_Pflanze.csv\n",
      "PH_Beschreibung_Phaenologie_Stationen_Sofortmelder.csv\n",
      "PH_Beschreibung_Phase.csv\n",
      "PH_Beschreibung_Phasendefinition_Sofortmelder_Landwirtschaft_Kulturpflanze.csv\n",
      "PH_Beschreibung_Phasendefinition_Sofortmelder_Obst.csv\n",
      "PH_Beschreibung_Phasendefinition_Sofortmelder_Wildwachsende_Pflanze.csv\n"
     ]
    }
   ],
   "source": [
    "!ls"
   ]
  },
  {
   "cell_type": "code",
   "execution_count": null,
   "metadata": {},
   "outputs": [],
   "source": []
  }
 ],
 "metadata": {
  "interpreter": {
   "hash": "add08ccb475ee87d0349ea55f57042a6cf20d70eb5df1ad11223a91c07106a2c"
  },
  "kernelspec": {
   "display_name": "Python 3.9.7 64-bit",
   "language": "python",
   "name": "python3"
  },
  "language_info": {
   "codemirror_mode": {
    "name": "ipython",
    "version": 3
   },
   "file_extension": ".py",
   "mimetype": "text/x-python",
   "name": "python",
   "nbconvert_exporter": "python",
   "pygments_lexer": "ipython3",
   "version": "3.9.7"
  },
  "orig_nbformat": 4
 },
 "nbformat": 4,
 "nbformat_minor": 2
}
